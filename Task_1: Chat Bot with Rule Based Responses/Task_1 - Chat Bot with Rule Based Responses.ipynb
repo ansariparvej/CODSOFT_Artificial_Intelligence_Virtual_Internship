{
 "cells": [
  {
   "cell_type": "markdown",
   "id": "909c007c",
   "metadata": {},
   "source": [
    "# ARTIFICIAL INTELLIGENCE INTERN @ CODE SOFT"
   ]
  },
  {
   "cell_type": "markdown",
   "id": "b0e796f3",
   "metadata": {},
   "source": [
    "### AUTHOR : PARVEJ ALAM M. ANSARI"
   ]
  },
  {
   "cell_type": "markdown",
   "id": "bb5424f6",
   "metadata": {},
   "source": [
    "# TASK 1 : Chat Bot with Rule Based Responses (Banking)"
   ]
  },
  {
   "cell_type": "markdown",
   "id": "a0351044",
   "metadata": {},
   "source": [
    "### Task Instruction:\n",
    "Build a simple chatbot that responds to user inputs based on predefined rules. Use if-else statements or pattern matching techniques to identify user queries and provide appropriate responses. This will give you a basic understanding of natural language processing and conversation flow."
   ]
  },
  {
   "cell_type": "code",
   "execution_count": 1,
   "id": "4bf7583c",
   "metadata": {},
   "outputs": [],
   "source": [
    "# Create BankBot Class:\n",
    "class BankBot:\n",
    "    def __init__(self):\n",
    "        self.balance = 1000  # Initial account balance\n",
    "\n",
    "    def check_balance(self):\n",
    "        return f\"Your account balance is ${self.balance}\"\n",
    "\n",
    "    def deposit(self, amount):\n",
    "        if amount > 0:\n",
    "            self.balance += amount\n",
    "            return f\"Deposited ${amount}. Your new balance is ${self.balance}\"\n",
    "        else:\n",
    "            return \"Invalid amount for deposit.\"\n",
    "\n",
    "    def withdraw(self, amount):\n",
    "        if amount > 0 and amount <= self.balance:\n",
    "            self.balance -= amount\n",
    "            return f\"Withdrew ${amount}. Your new balance is ${self.balance}\"\n",
    "        elif amount <= 0:\n",
    "            return \"Invalid amount for withdrawal.\"\n",
    "        else:\n",
    "            return \"Insufficient funds for withdrawal.\""
   ]
  },
  {
   "cell_type": "code",
   "execution_count": 2,
   "id": "85bfd535",
   "metadata": {},
   "outputs": [],
   "source": [
    "# Create an instance of the BankBot:\n",
    "bank_bot = BankBot()"
   ]
  },
  {
   "cell_type": "code",
   "execution_count": 3,
   "id": "3f6b8853",
   "metadata": {},
   "outputs": [
    {
     "name": "stdout",
     "output_type": "stream",
     "text": [
      "BankBot: Welcome to the BankBot! How can I assist you today?\n",
      "\n",
      "Options:\n",
      "1. Check Balance\n",
      "2. Deposit Funds\n",
      "3. Withdraw Funds\n",
      "4. Quit\n",
      "Enter the number of your choice: 1\n",
      "BankBot: Your account balance is $1000\n",
      "\n",
      "Options:\n",
      "1. Check Balance\n",
      "2. Deposit Funds\n",
      "3. Withdraw Funds\n",
      "4. Quit\n",
      "Enter the number of your choice: 2\n",
      "Enter the deposit amount: $200\n",
      "BankBot: Deposited $200.0. Your new balance is $1200.0\n",
      "\n",
      "Options:\n",
      "1. Check Balance\n",
      "2. Deposit Funds\n",
      "3. Withdraw Funds\n",
      "4. Quit\n",
      "Enter the number of your choice: 3\n",
      "Enter the withdrawal amount: $200\n",
      "BankBot: Withdrew $200.0. Your new balance is $1000.0\n",
      "\n",
      "Options:\n",
      "1. Check Balance\n",
      "2. Deposit Funds\n",
      "3. Withdraw Funds\n",
      "4. Quit\n",
      "Enter the number of your choice: 4\n",
      "BankBot: Thank you for using BankBot. Goodbye!\n"
     ]
    }
   ],
   "source": [
    "# Main conversation loop:\n",
    "print(\"BankBot: Welcome to the BankBot! How can I assist you today?\")\n",
    "\n",
    "while True:\n",
    "    print(\"\\nOptions:\")\n",
    "    print(\"1. Check Balance\")\n",
    "    print(\"2. Deposit Funds\")\n",
    "    print(\"3. Withdraw Funds\")\n",
    "    print(\"4. Quit\")\n",
    "    \n",
    "    choice = input(\"Enter the number of your choice: \")\n",
    "    \n",
    "    if choice == \"1\":\n",
    "        print(\"BankBot:\", bank_bot.check_balance())\n",
    "    elif choice == \"2\":\n",
    "        try:\n",
    "            amount = float(input(\"Enter the deposit amount: $\"))\n",
    "            print(\"BankBot:\", bank_bot.deposit(amount))\n",
    "        except ValueError:\n",
    "            print(\"BankBot: Please specify a valid deposit amount.\")\n",
    "    elif choice == \"3\":\n",
    "        try:\n",
    "            amount = float(input(\"Enter the withdrawal amount: $\"))\n",
    "            print(\"BankBot:\", bank_bot.withdraw(amount))\n",
    "        except ValueError:\n",
    "            print(\"BankBot: Please specify a valid withdrawal amount.\")\n",
    "    elif choice == \"4\":\n",
    "        print(\"BankBot: Thank you for using BankBot. Goodbye!\")\n",
    "        break\n",
    "    else:\n",
    "        print(\"BankBot: Invalid choice. Please select a valid option.\")"
   ]
  },
  {
   "cell_type": "code",
   "execution_count": null,
   "id": "21f22aab",
   "metadata": {},
   "outputs": [],
   "source": []
  }
 ],
 "metadata": {
  "kernelspec": {
   "display_name": "Python 3 (ipykernel)",
   "language": "python",
   "name": "python3"
  },
  "language_info": {
   "codemirror_mode": {
    "name": "ipython",
    "version": 3
   },
   "file_extension": ".py",
   "mimetype": "text/x-python",
   "name": "python",
   "nbconvert_exporter": "python",
   "pygments_lexer": "ipython3",
   "version": "3.9.16"
  }
 },
 "nbformat": 4,
 "nbformat_minor": 5
}
