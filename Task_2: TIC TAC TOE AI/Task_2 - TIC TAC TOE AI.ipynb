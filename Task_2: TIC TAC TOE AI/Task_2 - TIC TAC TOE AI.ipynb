{
 "cells": [
  {
   "cell_type": "markdown",
   "id": "10591cd0",
   "metadata": {},
   "source": [
    "# ARTIFICIAL INTELLIGENCE INTERN @ CODE SOFT"
   ]
  },
  {
   "cell_type": "markdown",
   "id": "b9a4f63f",
   "metadata": {},
   "source": [
    "### AUTHOR : PARVEJ ALAM M. ANSARI"
   ]
  },
  {
   "cell_type": "markdown",
   "id": "853d7d36",
   "metadata": {},
   "source": [
    "# TASK 2 : TIC-TAC-TOE AI"
   ]
  },
  {
   "cell_type": "markdown",
   "id": "6fd697de",
   "metadata": {},
   "source": [
    "### Task Instruction:\n",
    "Implement an AI agent that plays the classic game of Tic-Tac-Toe against a human player. You can use algorithms like Minimax with or without Alpha-Beta Pruning to make the AI player unbeatable. This project will help you understand game theory and basic search algorithms."
   ]
  },
  {
   "cell_type": "code",
   "execution_count": 1,
   "id": "f9cd99df",
   "metadata": {},
   "outputs": [],
   "source": [
    "# Import required libraries\n",
    "import random"
   ]
  },
  {
   "cell_type": "code",
   "execution_count": 2,
   "id": "37c4c01f",
   "metadata": {},
   "outputs": [],
   "source": [
    "# Function to print the Tic-Tac-Toe board\n",
    "def print_board(board):\n",
    "    for row in board:\n",
    "        print(\" | \".join(row))\n",
    "        print(\"-\" * 9)"
   ]
  },
  {
   "cell_type": "code",
   "execution_count": 3,
   "id": "52b8b4d6",
   "metadata": {},
   "outputs": [],
   "source": [
    "# Function to check if a player has won\n",
    "def check_winner(board, player):\n",
    "    for row in board:\n",
    "        if all(cell == player for cell in row):\n",
    "            return True\n",
    "\n",
    "    for col in range(3):\n",
    "        if all(board[row][col] == player for row in range(3)):\n",
    "            return True\n",
    "\n",
    "    if all(board[i][i] == player for i in range(3)) or all(board[i][2 - i] == player for i in range(3)):\n",
    "        return True\n",
    "\n",
    "    return False"
   ]
  },
  {
   "cell_type": "code",
   "execution_count": 4,
   "id": "6fa58a0b",
   "metadata": {},
   "outputs": [],
   "source": [
    "# Function to check if the board is full\n",
    "def is_full(board):\n",
    "    return all(cell != \" \" for row in board for cell in row)"
   ]
  },
  {
   "cell_type": "code",
   "execution_count": 5,
   "id": "f5cebf5d",
   "metadata": {},
   "outputs": [],
   "source": [
    "# Function to get available moves on the board\n",
    "def available_moves(board):\n",
    "    return [(i, j) for i in range(3) for j in range(3) if board[i][j] == \" \"]"
   ]
  },
  {
   "cell_type": "code",
   "execution_count": 6,
   "id": "dd0176df",
   "metadata": {},
   "outputs": [],
   "source": [
    "# Function for the Minimax algorithm\n",
    "def minimax(board, depth, is_maximizing):\n",
    "    if check_winner(board, \"O\"):\n",
    "        return 1\n",
    "    if check_winner(board, \"X\"):\n",
    "        return -1\n",
    "    if is_full(board):\n",
    "        return 0\n",
    "\n",
    "    if is_maximizing:\n",
    "        max_eval = float(\"-inf\")\n",
    "        for move in available_moves(board):\n",
    "            board[move[0]][move[1]] = \"O\"\n",
    "            eval = minimax(board, depth + 1, False)\n",
    "            board[move[0]][move[1]] = \" \"\n",
    "            max_eval = max(max_eval, eval)\n",
    "        return max_eval\n",
    "    else:\n",
    "        min_eval = float(\"inf\")\n",
    "        for move in available_moves(board):\n",
    "            board[move[0]][move[1]] = \"X\"\n",
    "            eval = minimax(board, depth + 1, True)\n",
    "            board[move[0]][move[1]] = \" \"\n",
    "            min_eval = min(min_eval, eval)\n",
    "        return min_eval"
   ]
  },
  {
   "cell_type": "code",
   "execution_count": 7,
   "id": "16b8ed8b",
   "metadata": {},
   "outputs": [],
   "source": [
    "# Function to find the best move for the AI\n",
    "def best_move(board):\n",
    "    best_val = float(\"-inf\")\n",
    "    best_move = None\n",
    "    for move in available_moves(board):\n",
    "        board[move[0]][move[1]] = \"O\"\n",
    "        move_val = minimax(board, 0, False)\n",
    "        board[move[0]][move[1]] = \" \"\n",
    "        if move_val > best_val:\n",
    "            best_val = move_val\n",
    "            best_move = move\n",
    "    return best_move"
   ]
  },
  {
   "cell_type": "code",
   "execution_count": 16,
   "id": "b99ebca5",
   "metadata": {},
   "outputs": [
    {
     "name": "stdout",
     "output_type": "stream",
     "text": [
      "Welcome to Tic-Tac-Toe! You are 'X', and the AI is 'O'.\n",
      "Valid Entries: 0 0, 0 1, 0 2, 1 0, 1 1, 1 2, 2 0, 2 1 2 2\n",
      "  |   |  \n",
      "---------\n",
      "  |   |  \n",
      "---------\n",
      "  |   |  \n",
      "---------\n",
      "Enter your move (row and column, e.g., '1 2'): 0 0\n",
      "X |   |  \n",
      "---------\n",
      "  |   |  \n",
      "---------\n",
      "  |   |  \n",
      "---------\n",
      "AI's move:\n",
      "X |   |  \n",
      "---------\n",
      "  | O |  \n",
      "---------\n",
      "  |   |  \n",
      "---------\n",
      "Enter your move (row and column, e.g., '1 2'): 2 0\n",
      "X |   |  \n",
      "---------\n",
      "  | O |  \n",
      "---------\n",
      "X |   |  \n",
      "---------\n",
      "AI's move:\n",
      "X |   |  \n",
      "---------\n",
      "O | O |  \n",
      "---------\n",
      "X |   |  \n",
      "---------\n",
      "Enter your move (row and column, e.g., '1 2'): 1 2\n",
      "X |   |  \n",
      "---------\n",
      "O | O | X\n",
      "---------\n",
      "X |   |  \n",
      "---------\n",
      "AI's move:\n",
      "X | O |  \n",
      "---------\n",
      "O | O | X\n",
      "---------\n",
      "X |   |  \n",
      "---------\n",
      "Enter your move (row and column, e.g., '1 2'): 2 1\n",
      "X | O |  \n",
      "---------\n",
      "O | O | X\n",
      "---------\n",
      "X | X |  \n",
      "---------\n",
      "AI's move:\n",
      "X | O |  \n",
      "---------\n",
      "O | O | X\n",
      "---------\n",
      "X | X | O\n",
      "---------\n",
      "Enter your move (row and column, e.g., '1 2'): 0 2\n",
      "X | O | X\n",
      "---------\n",
      "O | O | X\n",
      "---------\n",
      "X | X | O\n",
      "---------\n",
      "It's a tie!\n"
     ]
    }
   ],
   "source": [
    "# Main game loop\n",
    "def main():\n",
    "    board = [[\" \" for _ in range(3)] for _ in range(3)]\n",
    "    print(\"Welcome to Tic-Tac-Toe! You are 'X', and the AI is 'O'.\")\n",
    "    print(\"Valid Entries: 0 0, 0 1, 0 2, 1 0, 1 1, 1 2, 2 0, 2 1 2 2\")\n",
    "    print_board(board)\n",
    "\n",
    "    while True:\n",
    "        row, col = map(int, input(\"Enter your move (row and column, e.g., '1 2'): \").split())\n",
    "        if (row, col) not in available_moves(board):\n",
    "            print(\"Invalid move. Try again.\")\n",
    "            continue\n",
    "        board[row][col] = \"X\"\n",
    "        print_board(board)\n",
    "\n",
    "        if check_winner(board, \"X\"):\n",
    "            print(\"You win! Congratulations!\")\n",
    "            break\n",
    "\n",
    "        if is_full(board):\n",
    "            print(\"It's a tie!\")\n",
    "            break\n",
    "\n",
    "        ai_move = best_move(board)\n",
    "        board[ai_move[0]][ai_move[1]] = \"O\"\n",
    "        print(\"AI's move:\")\n",
    "        print_board(board)\n",
    "\n",
    "        if check_winner(board, \"O\"):\n",
    "            print(\"AI wins! Better luck next time.\")\n",
    "            break\n",
    "\n",
    "        if is_full(board):\n",
    "            print(\"It's a tie!\")\n",
    "            break\n",
    "\n",
    "# Start the game\n",
    "if __name__ == \"__main__\":\n",
    "    main()"
   ]
  },
  {
   "cell_type": "code",
   "execution_count": null,
   "id": "75e2f39b",
   "metadata": {},
   "outputs": [],
   "source": []
  }
 ],
 "metadata": {
  "kernelspec": {
   "display_name": "Python 3 (ipykernel)",
   "language": "python",
   "name": "python3"
  },
  "language_info": {
   "codemirror_mode": {
    "name": "ipython",
    "version": 3
   },
   "file_extension": ".py",
   "mimetype": "text/x-python",
   "name": "python",
   "nbconvert_exporter": "python",
   "pygments_lexer": "ipython3",
   "version": "3.9.16"
  }
 },
 "nbformat": 4,
 "nbformat_minor": 5
}
