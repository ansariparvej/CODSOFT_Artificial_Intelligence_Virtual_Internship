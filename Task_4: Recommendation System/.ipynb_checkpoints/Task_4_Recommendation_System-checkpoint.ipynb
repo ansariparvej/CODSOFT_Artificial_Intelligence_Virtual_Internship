{
 "cells": [
  {
   "cell_type": "markdown",
   "id": "a9dab99b",
   "metadata": {
    "id": "a9dab99b"
   },
   "source": [
    "# ARTIFICIAL INTELLIGENCE INTERN @ CODE SOFT"
   ]
  },
  {
   "cell_type": "markdown",
   "id": "cce44a1d",
   "metadata": {
    "id": "cce44a1d"
   },
   "source": [
    "### AUTHOR : PARVEJ ALAM M. ANSARI"
   ]
  },
  {
   "cell_type": "markdown",
   "id": "4d6c76e8",
   "metadata": {
    "id": "4d6c76e8"
   },
   "source": [
    "# TASK 4 : Recommendation System (Movie)"
   ]
  },
  {
   "cell_type": "markdown",
   "id": "2b91f59b",
   "metadata": {
    "id": "2b91f59b"
   },
   "source": [
    "### Task Instruction:\n",
    "Create a simple recommendation system that suggests items to users based on their preferences. You can use techniques like collaborative filtering or content-based filtering to recommend movies, books, or products to users."
   ]
  },
  {
   "cell_type": "markdown",
   "id": "178fbdcf",
   "metadata": {
    "id": "178fbdcf"
   },
   "source": [
    "### The dataset is available at Kaggle : https://grouplens.org/datasets/movielens/latest/"
   ]
  },
  {
   "cell_type": "markdown",
   "id": "7df2c59c",
   "metadata": {
    "id": "7df2c59c"
   },
   "source": [
    "### Note:\n",
    "- **scikit-surprise** is a Python library specifically designed for building, evaluating, and analyzing recommender systems. It offers a range of recommendation algorithms and tools to facilitate the development and evaluation of these systems.\n",
    "- To install this library: **pip install scikit-surprise**"
   ]
  },
  {
   "cell_type": "code",
   "execution_count": 1,
   "id": "0545a0ec",
   "metadata": {
    "colab": {
     "base_uri": "https://localhost:8080/"
    },
    "id": "0545a0ec",
    "outputId": "6979a3a7-bcb0-45bd-d53c-88d1c255bea3"
   },
   "outputs": [
    {
     "name": "stdout",
     "output_type": "stream",
     "text": [
      "Collecting scikit-surprise\n",
      "  Downloading scikit-surprise-1.1.3.tar.gz (771 kB)\n",
      "\u001b[?25l     \u001b[90m━━━━━━━━━━━━━━━━━━━━━━━━━━━━━━━━━━━━━━━━\u001b[0m \u001b[32m0.0/772.0 kB\u001b[0m \u001b[31m?\u001b[0m eta \u001b[36m-:--:--\u001b[0m\r",
      "\u001b[2K     \u001b[91m━━━━━\u001b[0m\u001b[91m╸\u001b[0m\u001b[90m━━━━━━━━━━━━━━━━━━━━━━━━━━━━━━━━━\u001b[0m \u001b[32m112.6/772.0 kB\u001b[0m \u001b[31m3.2 MB/s\u001b[0m eta \u001b[36m0:00:01\u001b[0m\r",
      "\u001b[2K     \u001b[90m━━━━━━━━━━━━━━━━━━━━━━━━━━━━━━━━━━━━━━\u001b[0m \u001b[32m772.0/772.0 kB\u001b[0m \u001b[31m11.7 MB/s\u001b[0m eta \u001b[36m0:00:00\u001b[0m\n",
      "\u001b[?25h  Preparing metadata (setup.py) ... \u001b[?25l\u001b[?25hdone\n",
      "Requirement already satisfied: joblib>=1.0.0 in /usr/local/lib/python3.10/dist-packages (from scikit-surprise) (1.3.2)\n",
      "Requirement already satisfied: numpy>=1.17.3 in /usr/local/lib/python3.10/dist-packages (from scikit-surprise) (1.23.5)\n",
      "Requirement already satisfied: scipy>=1.3.2 in /usr/local/lib/python3.10/dist-packages (from scikit-surprise) (1.11.2)\n",
      "Building wheels for collected packages: scikit-surprise\n",
      "  Building wheel for scikit-surprise (setup.py) ... \u001b[?25l\u001b[?25hdone\n",
      "  Created wheel for scikit-surprise: filename=scikit_surprise-1.1.3-cp310-cp310-linux_x86_64.whl size=3156250 sha256=cf2d7a533d930536c05399ff580d537a78350b890111ad959abecdee86db0da0\n",
      "  Stored in directory: /root/.cache/pip/wheels/a5/ca/a8/4e28def53797fdc4363ca4af740db15a9c2f1595ebc51fb445\n",
      "Successfully built scikit-surprise\n",
      "Installing collected packages: scikit-surprise\n",
      "Successfully installed scikit-surprise-1.1.3\n"
     ]
    }
   ],
   "source": [
    "!pip install scikit-surprise"
   ]
  },
  {
   "cell_type": "code",
   "execution_count": 3,
   "id": "61540503",
   "metadata": {
    "id": "61540503"
   },
   "outputs": [],
   "source": [
    "# Import required libraries:\n",
    "import pandas as pd\n",
    "from surprise import Dataset, Reader, KNNBasic\n",
    "from surprise.model_selection import train_test_split\n",
    "from surprise import accuracy"
   ]
  },
  {
   "cell_type": "code",
   "execution_count": 2,
   "id": "9ef890b5",
   "metadata": {
    "id": "9ef890b5"
   },
   "outputs": [],
   "source": [
    "!pip install joblib>=1.0.0"
   ]
  },
  {
   "cell_type": "code",
   "execution_count": 4,
   "id": "y3JbnYIkKiZG",
   "metadata": {
    "colab": {
     "base_uri": "https://localhost:8080/"
    },
    "id": "y3JbnYIkKiZG",
    "outputId": "e83a1612-0ec3-4d89-8676-89398ddd7cd2"
   },
   "outputs": [
    {
     "name": "stdout",
     "output_type": "stream",
     "text": [
      "Mounted at /content/drive\n"
     ]
    }
   ],
   "source": [
    "from google.colab import drive\n",
    "drive.mount('/content/drive')"
   ]
  },
  {
   "cell_type": "code",
   "execution_count": 5,
   "id": "HvwJEeBaK3uF",
   "metadata": {
    "id": "HvwJEeBaK3uF"
   },
   "outputs": [],
   "source": [
    "file_path_1 = '/content/drive/My Drive/Colab Notebooks/dataset/ml-latest-small/movies.csv'\n",
    "file_path_2 = '/content/drive/My Drive/Colab Notebooks/dataset/ml-latest-small/ratings.csv'"
   ]
  },
  {
   "cell_type": "code",
   "execution_count": 6,
   "id": "f4552765",
   "metadata": {
    "id": "f4552765"
   },
   "outputs": [],
   "source": [
    "# Load the data from the MovieLens dataset\n",
    "movies = pd.read_csv(file_path_1)\n",
    "ratings = pd.read_csv(file_path_2)"
   ]
  },
  {
   "cell_type": "code",
   "execution_count": 7,
   "id": "805938fc",
   "metadata": {
    "id": "805938fc"
   },
   "outputs": [],
   "source": [
    "# Create a Surprise Dataset\n",
    "reader = Reader(rating_scale=(0.5, 5))\n",
    "data = Dataset.load_from_df(ratings[['userId', 'movieId', 'rating']], reader)\n",
    "\n",
    "# Split the data into training and testing sets\n",
    "trainset, testset = train_test_split(data, test_size=0.2)"
   ]
  },
  {
   "cell_type": "code",
   "execution_count": 8,
   "id": "ea76ab25",
   "metadata": {
    "colab": {
     "base_uri": "https://localhost:8080/"
    },
    "id": "ea76ab25",
    "outputId": "1ffbc992-e1dc-489e-b910-2eb7d9108c61"
   },
   "outputs": [
    {
     "name": "stdout",
     "output_type": "stream",
     "text": [
      "Computing the cosine similarity matrix...\n",
      "Done computing similarity matrix.\n"
     ]
    },
    {
     "data": {
      "text/plain": [
       "<surprise.prediction_algorithms.knns.KNNBasic at 0x7ac1d1763a90>"
      ]
     },
     "execution_count": 8,
     "metadata": {},
     "output_type": "execute_result"
    }
   ],
   "source": [
    "# Build a user-based collaborative filtering model\n",
    "sim_options = {\n",
    "    'name': 'cosine',\n",
    "    'user_based': True,\n",
    "}\n",
    "model = KNNBasic(sim_options=sim_options)\n",
    "model.fit(trainset)"
   ]
  },
  {
   "cell_type": "code",
   "execution_count": 9,
   "id": "ea3e43ea",
   "metadata": {
    "colab": {
     "base_uri": "https://localhost:8080/"
    },
    "id": "ea3e43ea",
    "outputId": "737c1c84-49b8-4ab3-a30e-cd46842c61ab"
   },
   "outputs": [
    {
     "name": "stdout",
     "output_type": "stream",
     "text": [
      "RMSE: 0.9725\n"
     ]
    }
   ],
   "source": [
    "# Make predictions on the test set\n",
    "predictions = model.test(testset)\n",
    "\n",
    "# Evaluate the model's performance\n",
    "rmse = accuracy.rmse(predictions)"
   ]
  },
  {
   "cell_type": "code",
   "execution_count": 10,
   "id": "1e345179",
   "metadata": {
    "id": "1e345179"
   },
   "outputs": [],
   "source": [
    "# Function to recommend movies for a given user\n",
    "def recommend_movies(user_id, n=10):\n",
    "    movies_watched = ratings[ratings['userId'] == user_id]['movieId'].tolist()\n",
    "    unrated_movies = movies[~movies['movieId'].isin(movies_watched)]\n",
    "\n",
    "    recommendations = []\n",
    "    for movie_id in unrated_movies['movieId']:\n",
    "        predicted_rating = model.predict(user_id, movie_id).est\n",
    "        recommendations.append((movie_id, predicted_rating))\n",
    "\n",
    "    recommendations.sort(key=lambda x: x[1], reverse=True)\n",
    "    top_n_recommendations = recommendations[:n]\n",
    "\n",
    "    recommended_movies = movies[movies['movieId'].isin([movie[0] for movie in top_n_recommendations])]\n",
    "    return recommended_movies[['movieId', 'title']]"
   ]
  },
  {
   "cell_type": "code",
   "execution_count": 11,
   "id": "db209aac",
   "metadata": {
    "colab": {
     "base_uri": "https://localhost:8080/"
    },
    "id": "db209aac",
    "outputId": "3f4f21c6-b837-4c0a-82e9-b14489324b2e"
   },
   "outputs": [
    {
     "name": "stdout",
     "output_type": "stream",
     "text": [
      "Top 10 recommended movies for User 1:\n",
      "     movieId                                              title\n",
      "36        40                    Cry, the Beloved Country (1995)\n",
      "48        53                                    Lamerica (1994)\n",
      "87        99               Heidi Fleiss: Hollywood Madam (1995)\n",
      "346      389                         Colonel Chabert, Le (1994)\n",
      "432      495  In the Realm of the Senses (Ai no corrida) (1976)\n",
      "433      496                        What Happened Was... (1994)\n",
      "481      549    Thirty-Two Short Films About Glenn Gould (1993)\n",
      "531      626          Thin Line Between Love and Hate, A (1996)\n",
      "536      633                             Denise Calls Up (1995)\n",
      "614      779                          'Til There Was You (1997)\n"
     ]
    }
   ],
   "source": [
    "# Example_1:\n",
    "user_id = 1\n",
    "recommended_movies = recommend_movies(user_id, n=10)\n",
    "print(f\"Top 10 recommended movies for User {user_id}:\")\n",
    "print(recommended_movies)"
   ]
  },
  {
   "cell_type": "code",
   "execution_count": 12,
   "id": "99PsndLqNGZO",
   "metadata": {
    "colab": {
     "base_uri": "https://localhost:8080/"
    },
    "id": "99PsndLqNGZO",
    "outputId": "6be25ff5-f80c-4db6-d01c-b723fd32f6c4"
   },
   "outputs": [
    {
     "name": "stdout",
     "output_type": "stream",
     "text": [
      "Top 10 recommended movies for User 5:\n",
      "     movieId                                              title\n",
      "87        99               Heidi Fleiss: Hollywood Madam (1995)\n",
      "346      389                         Colonel Chabert, Le (1994)\n",
      "405      467                             Live Nude Girls (1995)\n",
      "432      495  In the Realm of the Senses (Ai no corrida) (1976)\n",
      "433      496                        What Happened Was... (1994)\n",
      "481      549    Thirty-Two Short Films About Glenn Gould (1993)\n",
      "536      633                             Denise Calls Up (1995)\n",
      "666      876     Supercop 2 (Project S) (Chao ji ji hua) (1993)\n",
      "842     1105      Children of the Corn IV: The Gathering (1996)\n",
      "865     1140  Entertaining Angels: The Dorothy Day Story (1996)\n"
     ]
    }
   ],
   "source": [
    "# Example_2:\n",
    "user_id = 5\n",
    "recommended_movies = recommend_movies(user_id, n=10)\n",
    "print(f\"Top 10 recommended movies for User {user_id}:\")\n",
    "print(recommended_movies)"
   ]
  },
  {
   "cell_type": "code",
   "execution_count": 13,
   "id": "xE31zvh8NI1r",
   "metadata": {
    "colab": {
     "base_uri": "https://localhost:8080/"
    },
    "id": "xE31zvh8NI1r",
    "outputId": "dbf2d176-4906-42b2-fb61-a8587b68e850"
   },
   "outputs": [
    {
     "name": "stdout",
     "output_type": "stream",
     "text": [
      "Top 10 recommended movies for User 10:\n",
      "     movieId                                              title\n",
      "48        53                                    Lamerica (1994)\n",
      "87        99               Heidi Fleiss: Hollywood Madam (1995)\n",
      "346      389                         Colonel Chabert, Le (1994)\n",
      "432      495  In the Realm of the Senses (Ai no corrida) (1976)\n",
      "433      496                        What Happened Was... (1994)\n"
     ]
    }
   ],
   "source": [
    "# Example_3:\n",
    "user_id = 10\n",
    "recommended_movies = recommend_movies(user_id, n=5)\n",
    "print(f\"Top 5 recommended movies for User {user_id}:\")\n",
    "print(recommended_movies)"
   ]
  },
  {
   "cell_type": "code",
   "execution_count": null,
   "id": "uZ0jrccoNb1U",
   "metadata": {
    "id": "uZ0jrccoNb1U"
   },
   "outputs": [],
   "source": []
  }
 ],
 "metadata": {
  "colab": {
   "provenance": []
  },
  "kernelspec": {
   "display_name": "Python 3 (ipykernel)",
   "language": "python",
   "name": "python3"
  },
  "language_info": {
   "codemirror_mode": {
    "name": "ipython",
    "version": 3
   },
   "file_extension": ".py",
   "mimetype": "text/x-python",
   "name": "python",
   "nbconvert_exporter": "python",
   "pygments_lexer": "ipython3",
   "version": "3.9.16"
  }
 },
 "nbformat": 4,
 "nbformat_minor": 5
}
